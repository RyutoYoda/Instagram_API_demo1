{
  "nbformat": 4,
  "nbformat_minor": 0,
  "metadata": {
    "colab": {
      "provenance": [],
      "authorship_tag": "ABX9TyNQuLag08qkDnWH/+17bOJq",
      "include_colab_link": true
    },
    "kernelspec": {
      "name": "python3",
      "display_name": "Python 3"
    },
    "language_info": {
      "name": "python"
    }
  },
  "cells": [
    {
      "cell_type": "markdown",
      "metadata": {
        "id": "view-in-github",
        "colab_type": "text"
      },
      "source": [
        "<a href=\"https://colab.research.google.com/github/RyutoYoda/Instagram_API_demo1/blob/main/Instagram_API_demo1.ipynb\" target=\"_parent\"><img src=\"https://colab.research.google.com/assets/colab-badge.svg\" alt=\"Open In Colab\"/></a>"
      ]
    },
    {
      "cell_type": "code",
      "execution_count": 1,
      "metadata": {
        "colab": {
          "base_uri": "https://localhost:8080/"
        },
        "id": "QnLsHafqfvht",
        "outputId": "99c1d07f-890e-45ca-9163-e82c9ef6a756"
      },
      "outputs": [
        {
          "output_type": "stream",
          "name": "stdout",
          "text": [
            "Requirement already satisfied: requests in /usr/local/lib/python3.10/dist-packages (2.31.0)\n",
            "Requirement already satisfied: charset-normalizer<4,>=2 in /usr/local/lib/python3.10/dist-packages (from requests) (3.2.0)\n",
            "Requirement already satisfied: idna<4,>=2.5 in /usr/local/lib/python3.10/dist-packages (from requests) (3.4)\n",
            "Requirement already satisfied: urllib3<3,>=1.21.1 in /usr/local/lib/python3.10/dist-packages (from requests) (2.0.4)\n",
            "Requirement already satisfied: certifi>=2017.4.17 in /usr/local/lib/python3.10/dist-packages (from requests) (2023.7.22)\n"
          ]
        }
      ],
      "source": [
        "!pip install requests"
      ]
    },
    {
      "cell_type": "markdown",
      "source": [
        "#1：InstagramAPIを使って任意の#から投稿を取得する"
      ],
      "metadata": {
        "id": "FvCG8tp4iPTM"
      }
    },
    {
      "cell_type": "code",
      "source": [
        "import requests\n",
        "import json\n",
        "\n",
        "hashTagName = '（例）おしゃれカフェ'\n",
        "instaBusinessId = 'ビジネスアカウントID'\n",
        "accessToken = 'アクセストークン'\n",
        "\n",
        "# InstagramAPIでハッシュタグIDを取得する関数\n",
        "def getIgHashId():\n",
        "    try:\n",
        "        url = f'https://graph.facebook.com/v17.0/ig_hashtag_search?user_id={instaBusinessId}&q={hashTagName}&access_token={accessToken}'\n",
        "        response = instagramApi(url, 'GET')\n",
        "\n",
        "        data = response.json()\n",
        "        hashTagId = data['data'][0]['id']\n",
        "\n",
        "        return hashTagId\n",
        "    except Exception as error:\n",
        "        print('Instagram APIのリクエスト中にエラーが発生しました:', error)\n",
        "        return None\n",
        "\n",
        "# APIを叩く関数\n",
        "def instagramApi(url, method):\n",
        "    try:\n",
        "        headers = {\n",
        "            'Authorization': f'Bearer {accessToken}'\n",
        "        }\n",
        "        response = requests.request(method, url, headers=headers)\n",
        "        response.raise_for_status()  # これによりHTTPエラー時に例外が発生します\n",
        "        return response\n",
        "    except requests.RequestException as error:\n",
        "        print('Instagram APIのリクエスト中にエラーが発生しました:', error)\n",
        "        return None\n",
        "\n",
        "# 実行例\n",
        "hashTagId = getIgHashId()\n",
        "print(\"ハッシュタグID:\", hashTagId)"
      ],
      "metadata": {
        "colab": {
          "base_uri": "https://localhost:8080/"
        },
        "id": "xkVtol2Bf5de",
        "outputId": "7697771b-b835-4bdd-ec7f-cb110e52c39c"
      },
      "execution_count": 4,
      "outputs": [
        {
          "output_type": "stream",
          "name": "stdout",
          "text": [
            "ハッシュタグID: 17841551125094952\n"
          ]
        }
      ]
    },
    {
      "cell_type": "code",
      "source": [
        "# 最近の投稿を取得する関数\n",
        "def searchTopHashTagPosts():\n",
        "    # ハッシュタグIDを取得\n",
        "    hashTagId = getIgHashId()\n",
        "\n",
        "    try:\n",
        "        url = f'https://graph.facebook.com/{hashTagId}/recent_media?user_id={instaBusinessId}&fields=caption,comments_count,id,like_count,media_type,media_url,permalink,timestamp,children%7Bmedia_url%7D&access_token={accessToken}&limit=35'\n",
        "        response = instagramApi(url, 'GET')\n",
        "\n",
        "        # レスポンスのステータスコードを確認\n",
        "        if response.status_code != 200:\n",
        "            print('Instagram APIのリクエストが失敗しました:', response.status_code)\n",
        "            return None\n",
        "\n",
        "        instagramMedia = response.json()['data']\n",
        "        print(instagramMedia)  # データ出力\n",
        "\n",
        "        return instagramMedia\n",
        "    except Exception as error:\n",
        "        print('Instagram APIのリクエスト中にエラーが発生しました:', error)\n",
        "        return None\n",
        "\n",
        "# 実行例#ハッシュタグ\n",
        "instagramMedia = searchTopHashTagPosts()"
      ],
      "metadata": {
        "id": "a7jTmkuwgdXk"
      },
      "execution_count": null,
      "outputs": []
    },
    {
      "cell_type": "markdown",
      "source": [
        "#２：取得したデータをBigQueryに落とす。"
      ],
      "metadata": {
        "id": "sMB5yfbXgyyp"
      }
    },
    {
      "cell_type": "code",
      "source": [
        "import pandas as pd\n",
        "from google.colab import auth\n",
        "from google.cloud import bigquery"
      ],
      "metadata": {
        "id": "9KBnp3GJgtP7"
      },
      "execution_count": null,
      "outputs": []
    },
    {
      "cell_type": "code",
      "source": [
        "auth.authenticate_user()"
      ],
      "metadata": {
        "id": "UrqdlArDipDE"
      },
      "execution_count": null,
      "outputs": []
    },
    {
      "cell_type": "code",
      "source": [
        "def flatten_children_column(instagramMedia):\n",
        "    for item in instagramMedia:\n",
        "        if \"children\" in item and isinstance(item[\"children\"], dict) and \"media_url\" in item[\"children\"]:\n",
        "            item[\"children_media_url\"] = item[\"children\"][\"media_url\"]\n",
        "            del item[\"children\"]\n",
        "    return instagramMedia\n",
        "\n",
        "\n",
        "# データの変換\n",
        "flattened_data = flatten_children_column(instagramMedia)\n",
        "df = convert_to_dataframe(flattened_data)\n",
        "\n",
        "# 2. 正しいプロジェクトIDを指定してBigQueryクライアントを作成\n",
        "project_id = \"プロジェクトID\"\n",
        "client = bigquery.Client(project=project_id)\n",
        "\n",
        "# 3. DataFrameをBigQueryにアップロード\n",
        "def upload_to_bigquery(df, dataset_name, table_name):\n",
        "    dataset_ref = client.dataset(dataset_name)\n",
        "    table_ref = dataset_ref.table(table_name)\n",
        "    job_config = bigquery.LoadJobConfig()\n",
        "    job_config.autodetect = True\n",
        "    job_config.write_disposition = \"WRITE_TRUNCATE\"  # 既存のテーブルを上書き\n",
        "    job = client.load_table_from_dataframe(df, table_ref, job_config=job_config)\n",
        "    job.result()  # ジョブの完了を待機\n",
        "\n",
        "    print(f\"Loaded {df.shape[0]} rows into {dataset_name}:{table_name}.\")\n",
        "\n",
        "# データのアップロード\n",
        "upload_to_bigquery(df, \"データセット名\", \"テーブル名\")"
      ],
      "metadata": {
        "id": "Eov-YomAipJS"
      },
      "execution_count": null,
      "outputs": []
    },
    {
      "cell_type": "markdown",
      "source": [
        "##SQLを実行しBigQueryから再度データを取得する"
      ],
      "metadata": {
        "id": "FS0bQzSZjyYd"
      }
    },
    {
      "cell_type": "code",
      "source": [
        "def get_data_from_bigquery(dataset_name, table_name):\n",
        "    # 1. BigQueryクライアントの初期化\n",
        "    project_id = \"プロジェクトID\"\n",
        "    client = bigquery.Client(project=project_id)\n",
        "\n",
        "    # 2. SQLクエリの実行\n",
        "    query = f\"SELECT * FROM `{project_id}.{dataset_name}.{table_name}`\"\n",
        "    query_job = client.query(query)\n",
        "\n",
        "    # 3. 結果をPandasのDataFrameに変換\n",
        "    data = query_job.to_dataframe()\n",
        "\n",
        "    return data\n",
        "\n",
        "# 使用例\n",
        "data = get_data_from_bigquery(\"データセット名\", \"テーブル名\")\n",
        "print(data.head())"
      ],
      "metadata": {
        "id": "j1NnBHEdipMT"
      },
      "execution_count": null,
      "outputs": []
    }
  ]
}